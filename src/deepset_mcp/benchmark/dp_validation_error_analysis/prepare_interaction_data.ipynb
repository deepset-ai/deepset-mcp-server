{
 "cells": [
  {
   "cell_type": "code",
   "id": "initial_id",
   "metadata": {
    "collapsed": true,
    "ExecuteTime": {
     "end_time": "2025-05-30T10:51:33.535497Z",
     "start_time": "2025-05-30T10:51:33.532821Z"
    }
   },
   "source": "from deepset_mcp.benchmark.dp_validation_error_analysis.preprocessing_utils import drop_common_columns, rename_common_columns",
   "outputs": [],
   "execution_count": 1
  },
  {
   "metadata": {
    "ExecuteTime": {
     "end_time": "2025-05-30T10:51:33.970401Z",
     "start_time": "2025-05-30T10:51:33.968190Z"
    }
   },
   "cell_type": "code",
   "source": "import pandas as pd",
   "id": "5da2787af99aacb5",
   "outputs": [],
   "execution_count": 2
  },
  {
   "metadata": {
    "ExecuteTime": {
     "end_time": "2025-05-30T10:51:34.430980Z",
     "start_time": "2025-05-30T10:51:34.414021Z"
    }
   },
   "cell_type": "code",
   "source": "df_deployed = pd.read_csv(\"../../../../data/raw/metabase_pipeline_deployed_last_3_months_exported_30-05-2025.csv\")",
   "id": "d0f95cd76cba4183",
   "outputs": [],
   "execution_count": 3
  },
  {
   "metadata": {
    "ExecuteTime": {
     "end_time": "2025-05-30T10:51:34.944239Z",
     "start_time": "2025-05-30T10:51:34.938344Z"
    }
   },
   "cell_type": "code",
   "source": "len(df_deployed)",
   "id": "fe9618bca374d999",
   "outputs": [
    {
     "data": {
      "text/plain": [
       "3131"
      ]
     },
     "execution_count": 4,
     "metadata": {},
     "output_type": "execute_result"
    }
   ],
   "execution_count": 4
  },
  {
   "metadata": {
    "ExecuteTime": {
     "end_time": "2025-05-30T10:51:35.598961Z",
     "start_time": "2025-05-30T10:51:35.595903Z"
    }
   },
   "cell_type": "code",
   "source": [
    "df_deployed = drop_common_columns(df_deployed)\n",
    "df_deployed = rename_common_columns(df_deployed)\n",
    "df_deployed = df_deployed.drop(columns=['Deployment ID'])"
   ],
   "id": "f4ca30b2b962f75d",
   "outputs": [],
   "execution_count": 5
  },
  {
   "metadata": {
    "ExecuteTime": {
     "end_time": "2025-05-30T10:51:36.208835Z",
     "start_time": "2025-05-30T10:51:36.179546Z"
    }
   },
   "cell_type": "code",
   "source": "df_updated = pd.read_csv(\"../../../../data/raw/metabase_pipeline_updated_last_3_months_exported_30-05-2025.csv\")",
   "id": "f0ecb5eac5b0f179",
   "outputs": [],
   "execution_count": 6
  },
  {
   "metadata": {
    "ExecuteTime": {
     "end_time": "2025-05-30T10:51:37.214238Z",
     "start_time": "2025-05-30T10:51:37.211859Z"
    }
   },
   "cell_type": "code",
   "source": "len(df_updated)",
   "id": "b33f53618e8781a6",
   "outputs": [
    {
     "data": {
      "text/plain": [
       "9978"
      ]
     },
     "execution_count": 7,
     "metadata": {},
     "output_type": "execute_result"
    }
   ],
   "execution_count": 7
  },
  {
   "metadata": {
    "ExecuteTime": {
     "end_time": "2025-05-30T10:51:37.790251Z",
     "start_time": "2025-05-30T10:51:37.784241Z"
    }
   },
   "cell_type": "code",
   "source": [
    "df_updated = drop_common_columns(df_updated)\n",
    "df_updated = rename_common_columns(df_updated)\n",
    "df_updated = df_updated.drop(columns=['Pipeline Status'])"
   ],
   "id": "4f50ccfab0abc9b6",
   "outputs": [],
   "execution_count": 8
  },
  {
   "metadata": {
    "ExecuteTime": {
     "end_time": "2025-05-30T10:51:41.305698Z",
     "start_time": "2025-05-30T10:51:41.303932Z"
    }
   },
   "cell_type": "code",
   "source": "",
   "id": "eb76bfb9c789c8c0",
   "outputs": [],
   "execution_count": null
  },
  {
   "metadata": {
    "ExecuteTime": {
     "end_time": "2025-05-30T10:51:41.773596Z",
     "start_time": "2025-05-30T10:51:41.753442Z"
    }
   },
   "cell_type": "code",
   "source": "df_created = pd.read_csv(\"../../../../data/raw/metabase_pipeline_created_last_3_months_exported_30-05-2025.csv\")",
   "id": "bd98e81e8409849d",
   "outputs": [],
   "execution_count": 9
  },
  {
   "metadata": {
    "ExecuteTime": {
     "end_time": "2025-05-30T10:51:42.202143Z",
     "start_time": "2025-05-30T10:51:42.197408Z"
    }
   },
   "cell_type": "code",
   "source": [
    "df_created = drop_common_columns(df_created)\n",
    "df_created = rename_common_columns(df_created)\n",
    "df_created = df_created.drop(columns=['Origin'])"
   ],
   "id": "74f10cd77832a58",
   "outputs": [],
   "execution_count": 10
  },
  {
   "metadata": {
    "ExecuteTime": {
     "end_time": "2025-05-30T10:51:42.820271Z",
     "start_time": "2025-05-30T10:51:42.818227Z"
    }
   },
   "cell_type": "code",
   "source": "len(df_created)",
   "id": "94eb65b1fca7b6e6",
   "outputs": [
    {
     "data": {
      "text/plain": [
       "4252"
      ]
     },
     "execution_count": 11,
     "metadata": {},
     "output_type": "execute_result"
    }
   ],
   "execution_count": 11
  },
  {
   "metadata": {
    "ExecuteTime": {
     "end_time": "2025-05-30T11:13:02.496461Z",
     "start_time": "2025-05-30T11:13:02.493255Z"
    }
   },
   "cell_type": "code",
   "source": "df_combined = pd.concat([df_created, df_deployed, df_updated])",
   "id": "a20170fc5dcc60f6",
   "outputs": [],
   "execution_count": 15
  },
  {
   "metadata": {
    "ExecuteTime": {
     "end_time": "2025-05-30T11:13:02.985180Z",
     "start_time": "2025-05-30T11:13:02.982381Z"
    }
   },
   "cell_type": "code",
   "source": "len(df_combined)",
   "id": "e89107d10cae3081",
   "outputs": [
    {
     "data": {
      "text/plain": [
       "13109"
      ]
     },
     "execution_count": 16,
     "metadata": {},
     "output_type": "execute_result"
    }
   ],
   "execution_count": 16
  },
  {
   "metadata": {
    "ExecuteTime": {
     "end_time": "2025-05-30T11:13:03.844452Z",
     "start_time": "2025-05-30T11:13:03.799299Z"
    }
   },
   "cell_type": "code",
   "source": "df_combined.to_csv(\"../../../data/processed/created_updated_deployed_events.csv\")",
   "id": "57c6dd0af364a0e0",
   "outputs": [],
   "execution_count": 17
  },
  {
   "metadata": {},
   "cell_type": "code",
   "outputs": [],
   "execution_count": null,
   "source": "",
   "id": "5a55efb7e9da2273"
  }
 ],
 "metadata": {
  "kernelspec": {
   "display_name": "Python 3",
   "language": "python",
   "name": "python3"
  },
  "language_info": {
   "codemirror_mode": {
    "name": "ipython",
    "version": 2
   },
   "file_extension": ".py",
   "mimetype": "text/x-python",
   "name": "python",
   "nbconvert_exporter": "python",
   "pygments_lexer": "ipython2",
   "version": "2.7.6"
  }
 },
 "nbformat": 4,
 "nbformat_minor": 5
}
